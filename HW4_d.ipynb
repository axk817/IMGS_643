{
  "nbformat": 4,
  "nbformat_minor": 0,
  "metadata": {
    "colab": {
      "provenance": [],
      "authorship_tag": "ABX9TyMK42h9MezoAHFlFeyoJJxX",
      "include_colab_link": true
    },
    "kernelspec": {
      "name": "python3",
      "display_name": "Python 3"
    },
    "language_info": {
      "name": "python"
    }
  },
  "cells": [
    {
      "cell_type": "markdown",
      "metadata": {
        "id": "view-in-github",
        "colab_type": "text"
      },
      "source": [
        "<a href=\"https://colab.research.google.com/github/axk817/IMGS_643/blob/main/HW4_d.ipynb\" target=\"_parent\"><img src=\"https://colab.research.google.com/assets/colab-badge.svg\" alt=\"Open In Colab\"/></a>"
      ]
    },
    {
      "cell_type": "code",
      "execution_count": 2,
      "metadata": {
        "colab": {
          "base_uri": "https://localhost:8080/"
        },
        "id": "Ga3mXcUIUDKR",
        "outputId": "3d586b76-8ce9-4795-b534-71562a1b83a9"
      },
      "outputs": [
        {
          "output_type": "stream",
          "name": "stdout",
          "text": [
            "Exact Value: 2.2222222222222223\n",
            "Trapezoidal Approximation: 3.515625\n",
            "Error: 1.2934027777777777\n"
          ]
        }
      ],
      "source": [
        "#(d) - standard trapezoidal rule with 4 equal segments\n",
        "import numpy as np\n",
        "\n",
        "# Define the function g2(x)\n",
        "def g2(x):\n",
        "    return 4*x**8 - 7*x**5 + 2*x**2\n",
        "\n",
        "# Define the exact value of the integral\n",
        "exact_value = 20/9\n",
        "\n",
        "# Define the interval and number of segments\n",
        "a = -1\n",
        "b = 1\n",
        "n = 4  # Number of segments\n",
        "\n",
        "# Calculate the segment width\n",
        "h = (b - a) / n\n",
        "\n",
        "# Calculate the x values for the trapezoidal rule\n",
        "x_values = np.linspace(a, b, n+1)\n",
        "\n",
        "# Calculate the y values for the trapezoidal rule\n",
        "y_values = g2(x_values)\n",
        "\n",
        "# Apply the trapezoidal rule\n",
        "trapezoidal_approximation = h/2 * (y_values[0] + 2*np.sum(y_values[1:-1]) + y_values[-1])\n",
        "\n",
        "# Calculate the error\n",
        "error = abs(exact_value - trapezoidal_approximation)\n",
        "\n",
        "# Print the results\n",
        "print(f\"Exact Value: {exact_value}\")\n",
        "print(f\"Trapezoidal Approximation: {trapezoidal_approximation}\")\n",
        "print(f\"Error: {error}\")"
      ]
    },
    {
      "cell_type": "code",
      "source": [
        "#(d) - standard trapezoidal rule with 8 equal segments\n",
        "import numpy as np\n",
        "\n",
        "# Define the function g2(x)\n",
        "def g2(x):\n",
        "    return 4*x**8 - 7*x**5 + 2*x**2\n",
        "\n",
        "# Define the exact value of the integral\n",
        "exact_value = 20/9\n",
        "\n",
        "# Define the interval and number of segments\n",
        "a = -1\n",
        "b = 1\n",
        "n = 8  # Number of segments\n",
        "\n",
        "# Calculate the segment width\n",
        "h = (b - a) / n\n",
        "\n",
        "# Calculate the x values for the trapezoidal rule\n",
        "x_values = np.linspace(a, b, n+1)\n",
        "\n",
        "# Calculate the y values for the trapezoidal rule\n",
        "y_values = g2(x_values)\n",
        "\n",
        "# Apply the trapezoidal rule\n",
        "trapezoidal_approximation = h/2 * (y_values[0] + 2*np.sum(y_values[1:-1]) + y_values[-1])\n",
        "\n",
        "# Calculate the error\n",
        "error = abs(exact_value - trapezoidal_approximation)\n",
        "\n",
        "# Print the results\n",
        "print(f\"Exact Value: {exact_value}\")\n",
        "print(f\"Trapezoidal Approximation: {trapezoidal_approximation}\")\n",
        "print(f\"Error: {error}\")"
      ],
      "metadata": {
        "colab": {
          "base_uri": "https://localhost:8080/"
        },
        "id": "judA4K_3UL2I",
        "outputId": "5ca0b7bf-313e-4e3b-d23a-f1862ef8e0d8"
      },
      "execution_count": 3,
      "outputs": [
        {
          "output_type": "stream",
          "name": "stdout",
          "text": [
            "Exact Value: 2.2222222222222223\n",
            "Trapezoidal Approximation: 2.58306884765625\n",
            "Error: 0.3608466254340277\n"
          ]
        }
      ]
    },
    {
      "cell_type": "code",
      "source": [],
      "metadata": {
        "id": "oc-r8bclUVLN"
      },
      "execution_count": null,
      "outputs": []
    }
  ]
}
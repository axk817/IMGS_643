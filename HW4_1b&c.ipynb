{
  "nbformat": 4,
  "nbformat_minor": 0,
  "metadata": {
    "colab": {
      "provenance": [],
      "authorship_tag": "ABX9TyNCk/rzR8MfTEFbdzH8CfVa",
      "include_colab_link": true
    },
    "kernelspec": {
      "name": "python3",
      "display_name": "Python 3"
    },
    "language_info": {
      "name": "python"
    }
  },
  "cells": [
    {
      "cell_type": "markdown",
      "metadata": {
        "id": "view-in-github",
        "colab_type": "text"
      },
      "source": [
        "<a href=\"https://colab.research.google.com/github/axk817/IMGS_643/blob/main/HW4_1b%26c.ipynb\" target=\"_parent\"><img src=\"https://colab.research.google.com/assets/colab-badge.svg\" alt=\"Open In Colab\"/></a>"
      ]
    },
    {
      "cell_type": "code",
      "execution_count": null,
      "metadata": {
        "colab": {
          "base_uri": "https://localhost:8080/"
        },
        "id": "izFAkYIuMXsS",
        "outputId": "6b08b6bd-bca8-403f-dfc1-f578ce2f73e9"
      },
      "outputs": [
        {
          "output_type": "stream",
          "name": "stdout",
          "text": [
            "Exact Value: 6.571428571428571\n",
            "Trapezoidal Approximation: 7.03125\n",
            "Error: 0.4598214285714288\n"
          ]
        }
      ],
      "source": [
        "#1(b)\n",
        "import numpy as np\n",
        "\n",
        "# Define the function g(x)\n",
        "def g(x):\n",
        "    return 2*x**6 - 6*x**3 + 5*x + 3\n",
        "\n",
        "# Define the exact value of the integral (from 1(a))\n",
        "exact_value = 46/7\n",
        "\n",
        "# Define the interval and number of segments\n",
        "a = -1\n",
        "b = 1\n",
        "n = 4  # Number of segments\n",
        "\n",
        "# Calculate the segment width\n",
        "h = (b - a) / n\n",
        "\n",
        "# Calculate the x values for the trapezoidal rule\n",
        "x_values = np.linspace(a, b, n+1)\n",
        "\n",
        "# Calculate the y values for the trapezoidal rule\n",
        "y_values = g(x_values)\n",
        "\n",
        "# Apply the trapezoidal rule\n",
        "trapezoidal_approximation = h/2 * (y_values[0] + 2*np.sum(y_values[1:-1]) + y_values[-1])\n",
        "\n",
        "# Calculate the error\n",
        "error = abs(exact_value - trapezoidal_approximation)\n",
        "\n",
        "# Print the results\n",
        "print(f\"Exact Value: {exact_value}\")\n",
        "print(f\"Trapezoidal Approximation: {trapezoidal_approximation}\")\n",
        "print(f\"Error: {error}\")"
      ]
    },
    {
      "cell_type": "code",
      "source": [
        "#1(c)\n",
        "import numpy as np\n",
        "\n",
        "# Define the function g(x)\n",
        "def g(x):\n",
        "    return 2*x**6 - 6*x**3 + 5*x + 3\n",
        "\n",
        "# Define the exact value of the integral (from 1(a))\n",
        "exact_value = 46/7\n",
        "\n",
        "# Define the interval and number of segments\n",
        "a = -1\n",
        "b = 1\n",
        "n = 8  # Number of segments\n",
        "\n",
        "# Calculate the segment width\n",
        "h = (b - a) / n\n",
        "\n",
        "# Calculate the x values for the trapezoidal rule\n",
        "x_values = np.linspace(a, b, n+1)\n",
        "\n",
        "# Calculate the y values for the trapezoidal rule\n",
        "y_values = g(x_values)\n",
        "\n",
        "# Apply the trapezoidal rule\n",
        "trapezoidal_approximation = h/2 * (y_values[0] + 2*np.sum(y_values[1:-1]) + y_values[-1])\n",
        "\n",
        "# Calculate the error\n",
        "error = abs(exact_value - trapezoidal_approximation)\n",
        "\n",
        "# Print the results\n",
        "print(f\"Exact Value: {exact_value}\")\n",
        "print(f\"Trapezoidal Approximation: {trapezoidal_approximation}\")\n",
        "print(f\"Error: {error}\")"
      ],
      "metadata": {
        "colab": {
          "base_uri": "https://localhost:8080/"
        },
        "id": "tnQJJYwMMmFf",
        "outputId": "b69ac30d-e7b3-4498-82ab-cd5bae3271bf"
      },
      "execution_count": null,
      "outputs": [
        {
          "output_type": "stream",
          "name": "stdout",
          "text": [
            "Exact Value: 6.571428571428571\n",
            "Trapezoidal Approximation: 6.69384765625\n",
            "Error: 0.12241908482142883\n"
          ]
        }
      ]
    }
  ]
}